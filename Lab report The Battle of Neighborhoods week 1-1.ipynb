{
 "cells": [
  {
   "cell_type": "markdown",
   "metadata": {
    "collapsed": true
   },
   "source": [
    "# The Battle of the Neighborhoods - Week 1 Part 1"
   ]
  },
  {
   "cell_type": "markdown",
   "metadata": {},
   "source": [
    "## Introduction & Business Problem :"
   ]
  },
  {
   "cell_type": "markdown",
   "metadata": {},
   "source": [
    "### Problem Background:"
   ]
  },
  {
   "cell_type": "markdown",
   "metadata": {},
   "source": [
    "New York City, is the most populous city in the U.S. It is large, and the financial center of the United States. They're ethnic. It offers a lot of company oppourtunities and an atmosphere conducive to companies. It has pulled into the market a number of different players. It is a regional center of business and trade.The city is a major center in the United States of America for banking and finance, retail, international trade, transportation, tourism, real estate, digital media, conventional media, advertisement, legal services, accounting, insurance, theatre, music, and arts."
   ]
  },
  {
   "cell_type": "markdown",
   "metadata": {},
   "source": [
    "That also means a highly competitive marketplace. As it is a highly developed area, it is also one of the highest costs of doing business. Therefore any new business plan or extension has to be carefully examined.The insights extracted from the study can provide a clear understanding of the business environment that helps to targete the market strategically. This will assist in risk management. And it'll be fair return on investment."
   ]
  },
  {
   "cell_type": "markdown",
   "metadata": {},
   "source": [
    "### Problem Description:"
   ]
  },
  {
   "cell_type": "markdown",
   "metadata": {},
   "source": [
    "A restaurant is a business that prepares and serves customers food and drink in exchange for cash, either paid before meal, after meal, or with an open account. New York City is renowned for its excellent cuisine. It's food culture includes a variety of international cuisines that are influenced by the immigrant background of the region."
   ]
  },
  {
   "cell_type": "markdown",
   "metadata": {},
   "source": [
    "1. Central and Eastern European immigrants - bagels, cheesecake, hot dogs, knishes, and delicatessens\n",
    "2. Italian immigrants - New York-style pizza and Italian cuisine\n",
    "3. Jewish immigrants and Irish immigrants - pastrami and corned beef\n",
    "4. Chinese and other Asian restaurants, sandwich joints, trattorias, diners, and coffeehouses are ubiquitous throughout the city\n",
    "4. mobile food vendors - Some 4,000 licensed by the city\n",
    "5. Middle Eastern foods such as falafel and kebabs examples of modern New York street food\n",
    "6. It is famous for not just Pizzerias, Cafe's but also for fine dining Michelin starred restaurants.The city is home to \"nearly one thousand of the finest and most diverse haute cuisine restaurants in the world\", according to Michelin."
   ]
  },
  {
   "cell_type": "markdown",
   "metadata": {},
   "source": [
    "So it is obvious that it is very important to prepare startegically to survive in such competitive market. In order to decide on the spot, various factors need to be studied such as:"
   ]
  },
  {
   "cell_type": "markdown",
   "metadata": {},
   "source": [
    "1. New York Population\n",
    "2. New York City Demographics\n",
    "3. Are there any Farmers Markets, Wholesale markets etc nearby so that the ingredients can be purchased fresh to maintain quality and cost?\n",
    "4. Are there any venues like Gyms, Entertainmnet zones, Parks etc nearby where floating population is high etc\n",
    "5. Who are the competitors in that location?\n",
    "6. Cuisine served / Menu of the competitors\n",
    "7. Segmentation of the Borough\n",
    "8. Untapped markets\n",
    "9. Saturated markets etc"
   ]
  },
  {
   "cell_type": "markdown",
   "metadata": {},
   "source": [
    "Eventhough Tek Company Ltd. is well financed and wants to select the best place to launch their first venture. If this is successful they will do the same at other locations. First step is very important so it is very important to choose the venue."
   ]
  },
  {
   "cell_type": "markdown",
   "metadata": {},
   "source": [
    "### Target Audience:"
   ]
  },
  {
   "cell_type": "markdown",
   "metadata": {},
   "source": [
    "XYZ Company Ltd has named me to lead the Data Science team to suggest the best venue. The aim is to locate and suggest to management which Newyork City neighborhood would be the best choice for starting a restaurant. The Management also needs to consider the logic behind the recommendations.That would attract someone who wants to start a new Newyork city restaurant."
   ]
  },
  {
   "cell_type": "markdown",
   "metadata": {},
   "source": [
    "### Success Criteria:"
   ]
  },
  {
   "cell_type": "markdown",
   "metadata": {},
   "source": [
    "The project's performance criterion would be a successful borough / Neighborhood preference recommendation to XYZ Company Ltd based on lack of such restaurants in that area and nearest ingredient suppliers."
   ]
  }
 ],
 "metadata": {
  "kernelspec": {
   "display_name": "Python 3.6",
   "language": "python",
   "name": "python3"
  },
  "language_info": {
   "codemirror_mode": {
    "name": "ipython",
    "version": 3
   },
   "file_extension": ".py",
   "mimetype": "text/x-python",
   "name": "python",
   "nbconvert_exporter": "python",
   "pygments_lexer": "ipython3",
   "version": "3.6.9"
  }
 },
 "nbformat": 4,
 "nbformat_minor": 1
}
