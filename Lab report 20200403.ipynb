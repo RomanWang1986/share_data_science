{
 "cells": [
  {
   "cell_type": "markdown",
   "metadata": {
    "collapsed": true
   },
   "source": [
    "# The best location for living in New York City"
   ]
  },
  {
   "cell_type": "markdown",
   "metadata": {},
   "source": [
    "## Table of contents\n",
    "1. Introduction: Business Problem\n",
    "2. Data\n",
    "3. Methodology\n",
    "4. Analysis\n",
    "5. Results and Discussion\n",
    "6. Conclusion\n",
    "7. References"
   ]
  },
  {
   "cell_type": "markdown",
   "metadata": {},
   "source": [
    "## 1. Introduction: Business Problem"
   ]
  },
  {
   "cell_type": "markdown",
   "metadata": {},
   "source": [
    "### Background"
   ]
  },
  {
   "cell_type": "markdown",
   "metadata": {},
   "source": [
    "According the latest NYC&Company release New York City welcomed about 65.2 million tourists in 2018 year - 51.6 million domestic and 13.5 million international visitors. And these numbers are continuously increasing from year to year - <https://en.wikipedia.org/wiki/Tourism_in_New_York_City>\n",
    "New York City has the largest selection of lodging choices in the country – from the hostels to the luxury hotels. The prices vary from 100$ till several thousand dollars with average price 292 USD per night.\n",
    "The Hotel Occupancy rate is also high – in 2018 year it was 88% - <https://assets.simpleviewinc.com/simpleview/image/upload/v1/clients/newyorkcity/FYI_Hotel_reports_February_2019_8607015b-b32a-4c7f-9fbd-84cd2a93cbe6.pdf>\n",
    "Visitors prefer short stays that are often over weekends - averaging 2.4 nights - <https://aka.nyc/content/uploads/2017/12/new_york_city_travel_and_tourism_trend_report_2017.pdf>"
   ]
  },
  {
   "cell_type": "markdown",
   "metadata": {},
   "source": [
    "### Problem description"
   ]
  },
  {
   "cell_type": "markdown",
   "metadata": {},
   "source": [
    "In New York City there are almost 300 hotels with over 75,000 hotel rooms and Airbnb has more than 50,000 apartment listings in New York City in 2018 year - it can be hard to find the right fit or know how much you will get with your money.\n",
    "In this project we will try to find the most optimal borough in Manhattan where a tourist can rent an accommodation via Airbnb service and have a pleasant stay in NYC and a possibility to attend the most visited attractions like Central Park, Times Square and so on."
   ]
  },
  {
   "cell_type": "markdown",
   "metadata": {},
   "source": [
    "### Target Audience"
   ]
  },
  {
   "cell_type": "markdown",
   "metadata": {},
   "source": [
    "This investigation would interest New York City's visitors who prefers short stays (from 1 night) and wants to select the best neighborhoods in Manhattan, New York."
   ]
  },
  {
   "cell_type": "markdown",
   "metadata": {},
   "source": [
    "### Success Criteria"
   ]
  },
  {
   "cell_type": "markdown",
   "metadata": {},
   "source": [
    "The success criteria of this project will be a recommendation with the set of apartments clusters have the best score calculated based on\n",
    "1. Accommodation price with fees;\n",
    "2. Location of the accommodation;\n",
    "3. Venues in radius of 1000 meters from the accommodation;\n",
    "4. Crime rate in radius of 100 meters from the accommodation."
   ]
  },
  {
   "cell_type": "markdown",
   "metadata": {},
   "source": [
    "## 2. Data"
   ]
  },
  {
   "cell_type": "markdown",
   "metadata": {},
   "source": [
    "In our investigation we will use the free and public available datasets.\n",
    "We will try to evaluate available Airbnb 2019-year accommodations on Manhattan, New York and define the most reasonable apartments sets(clusters) for the visitors.\n",
    "\n",
    "Based on definition of our problem, we suppose that factors that will help us are:\n",
    "\n",
    "accommodation prices average by neighborhood;\n",
    "number of tourist attractions near the accommodation;\n",
    "number of crimes nearby the accommodation.\n",
    "Following data sources is needed for our project:\n",
    "\n",
    "New York City apartment listing from the Inside Airbnb site - <http://data.insideairbnb.com/united-states/ny/new-york-city/2019-12-04/data/listings.csv.gz>\n",
    "New York Neighborhoods Tabulation Areas - <https://data.cityofnewyork.us/api/geospatial/cpf4-rkhq?method=export&format=GeoJSON>\n",
    "Foursquare API to extract data about venues - food places, museums, galleries, shopping centers, sightseeing attractions, concert halls and so on\n",
    "New York Crime data for 2019 year - <https://data.cityofnewyork.us/api/views/5uac-w243/rows.csv?accessType=DOWNLOAD>"
   ]
  },
  {
   "cell_type": "markdown",
   "metadata": {},
   "source": [
    "## 3. Methodology"
   ]
  },
  {
   "cell_type": "markdown",
   "metadata": {},
   "source": [
    "In this project we are trying to detect Manhattan's Neighborhoods that have accommodations for rent with positive reviews, reasonable prices, low number of crimes and tourists' attractions nearby.\n",
    "\n",
    "In the first step we have collected the following data:\n",
    "\n",
    "1. Airbnb Accommodations with their NYC Tabulation Area (official neighborhood names);\n",
    "2. Airbnb Accommodation's number of crimes nearby;\n",
    "3. Defined NYC Tabulation Area (official neighborhood name) for each Manhattan's crime case.\n",
    "\n",
    "The second step in our analysis will be a calculation and exploration different neighborhoods of Manhattan. We will explore the following characteristics:\n",
    "\n",
    "1. number of crimes in the area;\n",
    "2. average price per person;\n",
    "3. number of accommodations available.\n",
    "\n",
    "In third and final step we will\n",
    "\n",
    "1. select Top-100 Airbnb accommodations based on summary rating, number of crimes and price per person, and\n",
    "2. invoke Foursquare API to find Top accommodations' nearby venues\n",
    "3. create and investigate clusters (using k-means clustering) for our accommodations to make some recommendations to our tourists."
   ]
  },
  {
   "cell_type": "markdown",
   "metadata": {},
   "source": [
    "## 4. Analysis "
   ]
  },
  {
   "cell_type": "markdown",
   "metadata": {},
   "source": [
    "In this section, we will explore the cleansed data and visualize them.\n",
    "Then, we will conduct cluster analysis to try to classify Manhattan’s NYC Airbnb Neighborhoods and calculate average price_per_person , average crimes rate and number of accommodations for each Airbnb neighborhoods.\n",
    "Then we get Summary Crimes by Neighborhoods Map, and examine the clusters based on Foursquare API calculation.\n",
    "Then we test the cluster O# with following characteristics:\n",
    "1. average price_per_person\n",
    "2. average crimes rate\n",
    "3. second top Common Venue Category has a Mix of all kind of Categories\n",
    "4. contains 58% from all top accommodations\n",
    "\n",
    "Also, we test the cluster 1# with following characteristics:\n",
    "1. highest average price_per_person among all clusters\n",
    "2. highest average crimes rate among all clusters\n",
    "3. Entertainment is 1st and the 2nd Top Common Venue Categories\n",
    "4. contains 15% from all top accommodations\n",
    "\n",
    "We then test the cluster 2# with following characteristics:\n",
    "1. lowest average price_per_person\n",
    "2. lowest crimes rate among all clusters\n",
    "3. Sightseeing is the second top Common Venue Category\n",
    "4. contains 27% from all top accommodations"
   ]
  },
  {
   "cell_type": "markdown",
   "metadata": {},
   "source": [
    "## 5. Results and Discussion "
   ]
  },
  {
   "cell_type": "markdown",
   "metadata": {},
   "source": [
    "During the analysis, three clusters were defined.\n",
    "All clusters have a 'Food Place' category as the first Common Venues. This is what we have in common among our clusters.\n",
    "But they are distinguished by the other characteristics as\n",
    "1. average Price per person\n",
    "2. average Crimes Rate\n",
    "3. the second Common Venues\n",
    "4. number of available Airbnb accommodations\n",
    "5. neighborhoods location\n",
    "\n",
    "For cluster 0# - Mix is the most generic cluster - it has a\n",
    "1. average price_per_person - $110;\n",
    "2. average crimes rate - 67 (but very varying - depends on the neighborhood, from 3 to 385 crime cases in radius of 100 meters from the accommodation);\n",
    "3. mix of all Venue Categories (Fine Arts, Shopping, Entertainment);\n",
    "4. contains 58% from all accommodations selected from analysis (Top-100 Airbnb accommodations);\n",
    "5. spreads almost on all Manhattan's areas.\n",
    "\n",
    "For cluster 1# - Entertainment is the smallest cluster with the following particular qualities (Nightclub, Stadium, Pub, Theater, Concert and so on):\n",
    "1. highest average price_per_person among all clusters - $111;\n",
    "2. highest average crimes rate among all clusters - 102;\n",
    "3. Entertainment is 1st and the 2nd Top Common Venue Categories;\n",
    "4. contains 15% from all top accommodations (Top-100 Airbnb accommodations);\n",
    "5. spreads on Chelsea, Hell's Kitchen, and Midtown Airbnb's Neighborhoods.\n",
    "\n",
    "Cluster 2 - Sightseeing is the cheapest one with many Sightseeing attractions nearby (Monument/Landmark, Memorial Site, Historic Site, Lake, Park, Pier, and so on)\n",
    "1. lowest average price_per_person - $59;\n",
    "2. lowest crimes rate among all clusters - 65;\n",
    "3. Sightseeing is the second top Common Venue Category;\n",
    "4. contains 27% from all top accommodations (Top-100 Airbnb accommodations);\n",
    "5. spreads on East Harlem, Financial District, Harlem, Inwood, Morningside Heights, Roosevelt Island, Upper West Side, Washington Heights, West Village.\n",
    "\n",
    "We identified three clusters from which a visitor could choose an appropriate accommodation based on his/her preferences or needs.\n",
    "\n",
    "**Top Neighborhoods Statistics**\n",
    "Top-5 Manhattan Tab Area (Airbnb Neighborhoods) with Lowest Average Price per Person in 2019 year:\n",
    "\n",
    "Marble Hill-Inwood (Marble Hill, Inwood)          - 45.48 USD - 25 accommodations\n",
    "Washington Heights South (Washington Heights)        - 46.79 USD - 82 accommodations\n",
    "Washington Heights North (Inwood, Washington Heights)   - 54.74 USD - 53 accommodations\n",
    "Central Harlem North-Polo Grounds (Harlem, East Harlem)  - 57.00 USD - 132 accommodations\n",
    "Manhattanville (Harlem)                   - 59.75 USD - 25 accommodations\n",
    "\n",
    "Top-5 Manhattan Tab Area (Airbnb Neighborhoods) with the Lowest Crime level in 2019 year:\n",
    "\n",
    "Stuyvesant Town-Cooper Village (Stuyvesant Town)            -145\n",
    "park-cemetery-etc-Manhattan (Inwood, Washington Heights)      - 1,213\n",
    "Lenox Hill-Roosevelt Island (Roosevelt Island, Upper East Side)  - 1,604\n",
    "Manhattanville (Harlem)                            - 1,832\n",
    "Yorkville (Upper East Side)                          - 1,898\n",
    "\n",
    "**Limitations**\n",
    "We limited our investigation by Manhattan Borough only;\n",
    "Foursquare free account has a limitation of 950 calls/day so maybe it's worth to upgrade our free account to analyze Top-1000 Airbnb accommodations instead of Top-100."
   ]
  },
  {
   "cell_type": "markdown",
   "metadata": {},
   "source": [
    "## 6. Conclusion"
   ]
  },
  {
   "cell_type": "markdown",
   "metadata": {},
   "source": [
    "To conclude, the basic data analysis was performed to identify Manhattan's Neighborhoods clusters for a short stay visit.\n",
    "During the analysis, we cleansed and investigated Manhattan Neighborhoods' datasets, found some statistical characteristics and visualize them.\n",
    "\n",
    "The aim of this project is to help Manhattan visitors select the Airbnb neighborhoods where to stay based on the most common venues, price policy, and safety characteristics:\n",
    "\n",
    "1. if a person is interested in Entertainment (Nightlife, Pubs, Concerts, Movies) we recommend paying attention for accommodations from the Cluster 1 - Entertainment: Chelsea, Hell's Kitchen, and Midtown Airbnb's Neighborhoods. But the person should take into the consideration the high prices and crime rate for this location;\n",
    "2. if a person is looking for a neighborhood with lower prices and nice views nearby we recommend looking at Cluster 2 - Sightseeing: Chelsea, Hell's Kitchen, and Midtown Airbnb's Neighborhoods;\n",
    "3. if a person does not have any preferences - investigate proposals from Cluster 0 - Mix. It has average prices and spreads over almost all Manhattan's neighborhoods."
   ]
  },
  {
   "cell_type": "markdown",
   "metadata": {},
   "source": [
    "## 7. References"
   ]
  },
  {
   "cell_type": "markdown",
   "metadata": {},
   "source": [
    "1. New York City apartment listing from the Inside Airbnb site - <http://data.insideairbnb.com/united-states/ny/new-york-city/2019-12-04/data/listings.csv.gz>\n",
    "2. New York Neighborhoods Tabulation Areas - <https://data.cityofnewyork.us/api/geospatial/cpf4-rkhq?method=export&format=GeoJSON>\n",
    "3. Foursquare API to extract data about venues - food places, museums, galleries, shopping centers, sightseeing attractions, concert halls and so on\n",
    "4. New York Crime data for 2019 year - <https://data.cityofnewyork.us/api/views/5uac-w243/rows.csv?accessType=DOWNLOAD>"
   ]
  }
 ],
 "metadata": {
  "kernelspec": {
   "display_name": "Python 3.6",
   "language": "python",
   "name": "python3"
  },
  "language_info": {
   "codemirror_mode": {
    "name": "ipython",
    "version": 3
   },
   "file_extension": ".py",
   "mimetype": "text/x-python",
   "name": "python",
   "nbconvert_exporter": "python",
   "pygments_lexer": "ipython3",
   "version": "3.6.9"
  }
 },
 "nbformat": 4,
 "nbformat_minor": 1
}
