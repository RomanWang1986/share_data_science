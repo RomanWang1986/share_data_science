{
 "cells": [
  {
   "cell_type": "markdown",
   "metadata": {
    "collapsed": true
   },
   "source": [
    "# The Battle of the Neighborhoods - Week 1 Part 2"
   ]
  },
  {
   "cell_type": "markdown",
   "metadata": {},
   "source": [
    "### Data : "
   ]
  },
  {
   "cell_type": "markdown",
   "metadata": {},
   "source": [
    "**New York City** is selected as our sample city.We will use the following datasets to evaluate the city of New York."
   ]
  },
  {
   "cell_type": "markdown",
   "metadata": {},
   "source": [
    "**Data sets 1#** : The district has 5 boroughs and 306 communities in total. In order to sement and explore the neighbourhoods, we will basically need a dataset containing the 5 boroughs and neighbourhoods that exist in each borough, as well as the latitude and logith coordinates of each neighborhood. Link to the dataset is : [I'm an inline-style link](https://geo.nyu.edu/catalog/nyu_2451_34572)"
   ]
  },
  {
   "cell_type": "markdown",
   "metadata": {},
   "source": [
    "**Data sets 2#** : Second data to be used is the data collection DOHMH Farmers Markets and Food Boxes. In this we will use farmers market info.The following website will be used:"
   ]
  },
  {
   "cell_type": "markdown",
   "metadata": {},
   "source": [
    "<https://data.cityofnewyork.us/dataset/DOHMH-Farmers-Markets-and-Food-Boxes/8vwk-6iz2>"
   ]
  },
  {
   "cell_type": "markdown",
   "metadata": {},
   "source": [
    "<https://www.grownyc.org/greenmarketco/foodbox> GrowNYC's Fresh Food Box Program is an initiative for food access that enables under-served communities to purchase new, organic, and predominantly regional produce far below conventional retail rates."
   ]
  },
  {
   "cell_type": "markdown",
   "metadata": {},
   "source": [
    "A farmer's market is also described as a public site used by two or more local or regional producers for the direct sale to consumers of agricultural products. Markets can sell dairy products, fish, meat, baked goods, and other minimally processed foods in addition to fresh fruit and vegetables."
   ]
  },
  {
   "cell_type": "markdown",
   "metadata": {},
   "source": [
    "**Data sets 3#** :For the below analysis we will get data from wikipedia as given below :"
   ]
  },
  {
   "cell_type": "markdown",
   "metadata": {},
   "source": [
    "1. New York Population\n",
    "2. New York City Demographics\n",
    "3. Cuisine of New York city"
   ]
  },
  {
   "cell_type": "markdown",
   "metadata": {},
   "source": [
    "<https://en.wikipedia.org/wiki/New_York_City>\n",
    "<https://en.wikipedia.org/wiki/Economy_of_New_York_City>\n",
    "<https://en.wikipedia.org/wiki/Portal:New_York_City>\n",
    "<https://en.wikipedia.org/wiki/Cuisine_of_New_York_City>\n",
    "<https://en.wikipedia.org/wiki/List_of_Michelin_starred_restaurants_in_New_York_City>"
   ]
  },
  {
   "cell_type": "markdown",
   "metadata": {},
   "source": [
    "**Data sets 3#** :The data on the spatial coordinates of New York City will be used as input for the Foursquare API, which will be leveraged to provide information on locations for each neighborhood. The picture below is data from the Foursquare API."
   ]
  },
  {
   "cell_type": "markdown",
   "metadata": {},
   "source": [
    "![alt text](https://i.imgur.com/MOxxyoY.png)"
   ]
  }
 ],
 "metadata": {
  "kernelspec": {
   "display_name": "Python 3.6",
   "language": "python",
   "name": "python3"
  },
  "language_info": {
   "codemirror_mode": {
    "name": "ipython",
    "version": 3
   },
   "file_extension": ".py",
   "mimetype": "text/x-python",
   "name": "python",
   "nbconvert_exporter": "python",
   "pygments_lexer": "ipython3",
   "version": "3.6.9"
  }
 },
 "nbformat": 4,
 "nbformat_minor": 1
}
